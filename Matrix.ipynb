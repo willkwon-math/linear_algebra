{
 "cells": [
  {
   "cell_type": "markdown",
   "metadata": {},
   "source": [
    "# 행렬 정의하기\n",
    "\n",
    "파이썬에서 행렬을 사용하는 방법은 여러가지가 있다. \n",
    "첫번째로 데이터를 처리하는 라이브러리인 numpy(numercial python)이란 라이브러리를 불러야한다."
   ]
  },
  {
   "cell_type": "code",
   "execution_count": null,
   "metadata": {},
   "outputs": [],
   "source": [
    "import numpy as np"
   ]
  },
  {
   "cell_type": "markdown",
   "metadata": {},
   "source": [
    "그리고 이제 행렬을 다음과 같이 정의한다."
   ]
  },
  {
   "cell_type": "code",
   "execution_count": null,
   "metadata": {},
   "outputs": [],
   "source": [
    "test_a = np.array([[3,1,4],[2,-1,3]])\n",
    "test_b = np.array([[2,1,-1],[1,-2,4]])"
   ]
  },
  {
   "cell_type": "markdown",
   "metadata": {},
   "source": [
    "만들어진 행렬은 2x3 행렬이라는 것을 다음 명령어로 확인할 수 있다."
   ]
  },
  {
   "cell_type": "code",
   "execution_count": null,
   "metadata": {},
   "outputs": [],
   "source": [
    "print('a-type: {}, b-type: {}'.format(test_a.shape, test_b.shape))"
   ]
  },
  {
   "cell_type": "markdown",
   "metadata": {},
   "source": [
    "# 행렬의 연산\n",
    "\n",
    "행렬의 연산에는 덧셈, 스칼라배, 곱셈이 있다. 그 외에도 성분끼리 곱하기 텐서곱 등이 있다.\n",
    "\n",
    "다음은 p.12의 예제 3이다. "
   ]
  },
  {
   "cell_type": "code",
   "execution_count": null,
   "metadata": {},
   "outputs": [],
   "source": [
    "test_a + test_b"
   ]
  },
  {
   "cell_type": "code",
   "execution_count": null,
   "metadata": {},
   "outputs": [],
   "source": [
    "2*test_a"
   ]
  },
  {
   "cell_type": "markdown",
   "metadata": {},
   "source": [
    "영행렬을 만들어주려면 다음과 같은 명령어를 사용한다."
   ]
  },
  {
   "cell_type": "code",
   "execution_count": null,
   "metadata": {},
   "outputs": [],
   "source": [
    "zero=np.zeros((2,3))\n",
    "zero.shape"
   ]
  },
  {
   "cell_type": "markdown",
   "metadata": {},
   "source": [
    "p.14에 있는 예제4(결합법칙의 확인)를 파이썬으로 확인해보자."
   ]
  },
  {
   "cell_type": "code",
   "execution_count": null,
   "metadata": {},
   "outputs": [],
   "source": [
    "a = np.array([[1,-2,4],[0,3,-1]])\n",
    "b = np.array([[3,2,-2],[-2,1,5]])\n",
    "c = np.array([[6,4,9],[-1,2,1]])\n",
    "\n",
    "d = (a+b)+c\n",
    "e = a+(b+c)\n",
    "\n",
    "d == e"
   ]
  },
  {
   "cell_type": "markdown",
   "metadata": {},
   "source": [
    "이제 행렬의 곱셈을 정의하면 다음과 같은 명령어를 사용하면 된다. p.16 예제 5를 해보자."
   ]
  },
  {
   "cell_type": "code",
   "execution_count": null,
   "metadata": {},
   "outputs": [],
   "source": [
    "a = np.array([[2,1,-1],[-1,4,1]])\n",
    "b = np.array([[2,1],[0,3],[-1,1]])\n",
    "\n",
    "print('AB=\\n{}\\n\\nBA=\\n{}'.format(np.matmul(a,b),np.matmul(b,a)))"
   ]
  },
  {
   "cell_type": "markdown",
   "metadata": {},
   "source": [
    "행렬의 곱셈에 관한 결합법칙이 성립함을 파이썬 계산으로 확인해보자."
   ]
  },
  {
   "cell_type": "code",
   "execution_count": null,
   "metadata": {},
   "outputs": [],
   "source": [
    "a = np.array([[2,-1,4],[3,5,1]])\n",
    "b = np.array([[-5,0,-6],[1,-2,1],[0,7,4]])\n",
    "c = np.array([[2,1],[0,3],[-1,1]])\n",
    "\n",
    "np.matmul(np.matmul(a,b),c) == np.matmul(a,np.matmul(b,c))"
   ]
  },
  {
   "cell_type": "markdown",
   "metadata": {},
   "source": [
    "## 역행렬 구하기\n",
    "\n",
    "역행렬을 구하는 것부터는 별도의 라이브러리를 불러야 한다.\n",
    "p.43의 예제 18을 생각해보자"
   ]
  },
  {
   "cell_type": "code",
   "execution_count": null,
   "metadata": {},
   "outputs": [],
   "source": [
    "import numpy.linalg as linalg\n",
    "\n",
    "a = np.array([[2,1],[3,4]])\n",
    "b = np.array([[1,1,2],[0,1,3],[1,-1,0]])\n",
    "print('inverse of A:\\n{},\\n\\ninverse of B:\\n{}'.format(linalg.inv(a),linalg.inv(b)))\n",
    "\n"
   ]
  },
  {
   "cell_type": "markdown",
   "metadata": {},
   "source": [
    "숫자를 분수형으로 쓰고 싶다면 다음과 같은 라이브러리를 부른다."
   ]
  },
  {
   "cell_type": "code",
   "execution_count": null,
   "metadata": {
    "scrolled": true
   },
   "outputs": [],
   "source": [
    "from sympy import MatrixSymbol, Matrix\n",
    "\n",
    "c=Matrix(a)\n",
    "d=Matrix(b)\n",
    "\n",
    "#print(d**-1)\n",
    "#print('inverse of A:\\n{},\\n\\ninverse of B:\\n{}'.format(c**-1,d**-1))"
   ]
  },
  {
   "cell_type": "code",
   "execution_count": null,
   "metadata": {},
   "outputs": [],
   "source": [
    "c**-1"
   ]
  },
  {
   "cell_type": "code",
   "execution_count": null,
   "metadata": {},
   "outputs": [],
   "source": [
    "d**-1"
   ]
  },
  {
   "cell_type": "markdown",
   "metadata": {},
   "source": [
    "## 연립일차방정식의 해\n",
    "\n",
    "파이썬을 이용해서 연립일차방정식의 해를 구해보자.\n",
    "p.34의 예제 16번이다."
   ]
  },
  {
   "cell_type": "code",
   "execution_count": null,
   "metadata": {},
   "outputs": [],
   "source": [
    "a = np.array([[1,-3,2,5],[2,3,-4,10],[-6,0,-8,0],[0,6,-8,-5]])\n",
    "b = np.array([[1],[3],[-5],[-1]])\n",
    "\n",
    "#a.shape\n",
    "#b.shape\n",
    "\n",
    "linalg.solve(a,b)"
   ]
  },
  {
   "cell_type": "markdown",
   "metadata": {},
   "source": [
    "## 기약행사다리꼴 만들기 \n",
    "\n",
    "이제 주어진 행렬의 기약행사다리꼴을 만들어보자.\n",
    "이를 위해서는 별도의 라이브러리로 sympy를 불러야한다.\n",
    "\n",
    "같은 예제 16번을 생각해보자."
   ]
  },
  {
   "cell_type": "code",
   "execution_count": null,
   "metadata": {},
   "outputs": [],
   "source": [
    "import sympy\n",
    "\n",
    "a = np.array([[1,-3,2,5,1],[2,3,-4,10,3],[-6,0,-8,0,-5],[0,6,-8,-5,-1]])\n",
    "\n",
    "sympy.Matrix(a).rref()"
   ]
  }
 ],
 "metadata": {
  "kernelspec": {
   "display_name": "Python 3",
   "language": "python",
   "name": "python3"
  },
  "language_info": {
   "codemirror_mode": {
    "name": "ipython",
    "version": 3
   },
   "file_extension": ".py",
   "mimetype": "text/x-python",
   "name": "python",
   "nbconvert_exporter": "python",
   "pygments_lexer": "ipython3",
   "version": "3.8.3"
  }
 },
 "nbformat": 4,
 "nbformat_minor": 4
}
